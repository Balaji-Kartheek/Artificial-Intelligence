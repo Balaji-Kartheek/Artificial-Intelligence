{
  "nbformat": 4,
  "nbformat_minor": 0,
  "metadata": {
    "colab": {
      "provenance": []
    },
    "kernelspec": {
      "name": "python3",
      "display_name": "Python 3"
    },
    "language_info": {
      "name": "python"
    }
  },
  "cells": [
    {
      "cell_type": "markdown",
      "source": [
        "### Importing the Libraries"
      ],
      "metadata": {
        "id": "36s9wrclArd3"
      }
    },
    {
      "cell_type": "code",
      "source": [
        "!pip install easyAI\n",
        "from easyAI import TwoPlayerGame\n",
        "from easyAI.Player import Human_Player"
      ],
      "metadata": {
        "colab": {
          "base_uri": "https://localhost:8080/"
        },
        "id": "eeZJgb0SL8lk",
        "outputId": "a3cfd6a6-2425-43ef-a98a-9f21a352aa44"
      },
      "execution_count": 1,
      "outputs": [
        {
          "output_type": "stream",
          "name": "stdout",
          "text": [
            "Looking in indexes: https://pypi.org/simple, https://us-python.pkg.dev/colab-wheels/public/simple/\n",
            "Collecting easyAI\n",
            "  Downloading easyAI-2.0.12-py3-none-any.whl (42 kB)\n",
            "\u001b[2K     \u001b[90m━━━━━━━━━━━━━━━━━━━━━━━━━━━━━━━━━━━━━━━━\u001b[0m \u001b[32m42.2/42.2 KB\u001b[0m \u001b[31m1.1 MB/s\u001b[0m eta \u001b[36m0:00:00\u001b[0m\n",
            "\u001b[?25hRequirement already satisfied: numpy in /usr/local/lib/python3.8/dist-packages (from easyAI) (1.22.4)\n",
            "Installing collected packages: easyAI\n",
            "Successfully installed easyAI-2.0.12\n"
          ]
        }
      ]
    },
    {
      "cell_type": "markdown",
      "source": [
        "### Solving a game\n",
        "#### There are two available algorithms:\n",
        "\n",
        "- <b>Iterative deepening </b>: \n",
        "  - The iterative deepening algorithm combines the best features of Breadth-First Search and Depth-First Search algorithms. It performs a series of depth-limited searches, where the depth limit is increased after each search. This allows the algorithm to find the optimal solution\n",
        "-<b>Depth-first search </b>:\n",
        "  - it cannot be used for games that can have an infinite number of moves). The game is explored until endgames are reached and these endgames are evaluated to see if their are victories or defeats or draw. Then, a situation in which every move leads to a defeat is labelled as a certain defeat, and a situation in which one move leads to a certain defeat of the opponent is labelled as a certain victory."
      ],
      "metadata": {
        "id": "ykek-LygAjRy"
      }
    },
    {
      "cell_type": "markdown",
      "source": [
        "#### Implementing the Tic-Tac-Toe Game\n",
        "- two player game \n",
        "- board has 9 moves \n",
        "- After every move incriment the iteration\n",
        "- check the termination by \n",
        "  - is there any player has 3 in line?\n",
        "  - if no player is in line it's a Draw Game"
      ],
      "metadata": {
        "id": "oZT20f1QAzym"
      }
    },
    {
      "cell_type": "code",
      "source": [
        "class TicTacToe(TwoPlayerGame):\n",
        "    \n",
        "    def __init__(self, players):\n",
        "        self.players = players\n",
        "        self.board = [0 for i in range(9)]\n",
        "        self.current_player = 1  \n",
        "\n",
        "    def possible_moves(self):\n",
        "        return [i + 1 for i, e in enumerate(self.board) if e == 0]\n",
        "\n",
        "    def make_move(self, move):\n",
        "        self.board[int(move) - 1] = self.current_player\n",
        "\n",
        "    def unmake_move(self, move):  \n",
        "        self.board[int(move) - 1] = 0\n",
        "\n",
        "    def lose(self):\n",
        "        \n",
        "        return any(\n",
        "            [\n",
        "                all([(self.board[c - 1] == self.opponent_index) for c in line])\n",
        "                for line in [\n",
        "                    [1, 2, 3],\n",
        "                    [4, 5, 6],\n",
        "                    [7, 8, 9],  \n",
        "                    [1, 4, 7],\n",
        "                    [2, 5, 8],\n",
        "                    [3, 6, 9],  \n",
        "                    [1, 5, 9],\n",
        "                    [3, 5, 7],\n",
        "                ]\n",
        "            ]\n",
        "        )  \n",
        "\n",
        "    def is_over(self):\n",
        "        return (self.possible_moves() == []) or self.lose()\n",
        "    \n",
        "\n",
        "    def show(self):\n",
        "        print(\n",
        "            \"\\n\"\n",
        "            + \"\\n\".join(\n",
        "                [\n",
        "                    \" \".join([[\".\", \"O\", \"X\"][self.board[3 * j + i]] for i in range(3)])\n",
        "                    for j in range(3)\n",
        "                ]\n",
        "            )\n",
        "        )\n",
        "\n",
        "    def scoring(self):\n",
        "        return -1 if self.lose() else 1\n",
        "\n",
        "# \"\"\"\n",
        "#       positions of the board:\n",
        "#             1 2 3\n",
        "#             4 5 6\n",
        "#             7 8 9\n",
        "# \"\"\""
      ],
      "metadata": {
        "id": "a8brQw7sAj5A"
      },
      "execution_count": 4,
      "outputs": []
    },
    {
      "cell_type": "markdown",
      "source": [
        "## Iterative Deeping\n",
        "  - Here the depths parameter is used, this Algorithm works by iterativelly increasing the depth untill a termination(win,loseor draw) is found\n",
        "  - depth =2 means it searches for all possible moves upto 2 levels deep\n",
        "  - depth =8 means it searches for all possible moves upto 8 levels deep"
      ],
      "metadata": {
        "id": "w7bGRf1WHVdG"
      }
    },
    {
      "cell_type": "code",
      "source": [
        "if __name__ == \"__main__\":\n",
        "    \n",
        "    from easyAI import solve_with_iterative_deepening, Human_Player, AI_Player\n",
        "    from easyAI.AI import TranspositionTable\n",
        "\n",
        "    tt = TranspositionTable()\n",
        "    TicTacToe.ttentry = lambda self: tuple(self.board)\n",
        "    result, depth, m = solve_with_iterative_deepening(\n",
        "        TicTacToe([AI_Player(tt), Human_Player()]), range(2, 10), win_score=100, tt=tt\n",
        "    )\n",
        "   \n",
        "    game = TicTacToe([AI_Player(tt), Human_Player()])\n",
        "    game.play() \n",
        "\n",
        "# d- depth\n",
        "# a - action\n",
        "# m - move"
      ],
      "metadata": {
        "colab": {
          "base_uri": "https://localhost:8080/"
        },
        "id": "Xh1WlrcGBNoL",
        "outputId": "b03c245d-1023-450a-9f2f-324e4476ad8a"
      },
      "execution_count": 5,
      "outputs": [
        {
          "output_type": "stream",
          "name": "stdout",
          "text": [
            "d:2, a:1, m:1\n",
            "d:3, a:-1, m:1\n",
            "d:4, a:1, m:1\n",
            "d:5, a:-1, m:1\n",
            "d:6, a:1, m:1\n",
            "d:7, a:-1, m:1\n",
            "d:8, a:1, m:1\n",
            "d:9, a:-1, m:1\n",
            "\n",
            ". . .\n",
            ". . .\n",
            ". . .\n",
            "\n",
            "Move #1: player 1 plays 1 :\n",
            "\n",
            "O . .\n",
            ". . .\n",
            ". . .\n",
            "\n",
            "Player 2 what do you play ? 5\n",
            "\n",
            "Move #2: player 2 plays 5 :\n",
            "\n",
            "O . .\n",
            ". X .\n",
            ". . .\n",
            "\n",
            "Move #3: player 1 plays 2 :\n",
            "\n",
            "O O .\n",
            ". X .\n",
            ". . .\n",
            "\n",
            "Player 2 what do you play ? 3\n",
            "\n",
            "Move #4: player 2 plays 3 :\n",
            "\n",
            "O O X\n",
            ". X .\n",
            ". . .\n",
            "\n",
            "Move #5: player 1 plays 7 :\n",
            "\n",
            "O O X\n",
            ". X .\n",
            "O . .\n",
            "\n",
            "Player 2 what do you play ? 4\n",
            "\n",
            "Move #6: player 2 plays 4 :\n",
            "\n",
            "O O X\n",
            "X X .\n",
            "O . .\n",
            "\n",
            "Move #7: player 1 plays 6 :\n",
            "\n",
            "O O X\n",
            "X X O\n",
            "O . .\n",
            "\n",
            "Player 2 what do you play ? 9\n",
            "\n",
            "Move #8: player 2 plays 9 :\n",
            "\n",
            "O O X\n",
            "X X O\n",
            "O . X\n",
            "\n",
            "Move #9: player 1 plays 8 :\n",
            "\n",
            "O O X\n",
            "X X O\n",
            "O O X\n"
          ]
        }
      ]
    },
    {
      "cell_type": "markdown",
      "source": [
        "## Depth-First-Search\n",
        "- DFS searches a graph along one path until it reaches the end or a dead end.\n",
        "- DFS may explore the entire graph along one path before finding the solution.\n",
        "- DFS does not guarantee to find the shortest path to the solution."
      ],
      "metadata": {
        "id": "QMuJzuK42fY4"
      }
    },
    {
      "cell_type": "code",
      "source": [
        "if __name__ == \"__main__\":\n",
        "\n",
        "    from easyAI import solve_with_depth_first_search, Human_Player, AI_Player\n",
        "    from easyAI.AI import TranspositionTable\n",
        "\n",
        "    tt = TranspositionTable()\n",
        "    TicTacToe.ttentry = lambda self: tuple(self.board)\n",
        "\n",
        "    game = TicTacToe([AI_Player(tt), Human_Player()])\n",
        "    ai_move = solve_with_depth_first_search(game=game, win_score=100)\n",
        "\n",
        "    game.play_move(ai_move)\n",
        "    print(game.board)\n",
        "    print(game.scoring())\n",
        "\n"
      ],
      "metadata": {
        "colab": {
          "base_uri": "https://localhost:8080/"
        },
        "id": "nDg8l9dK2r2j",
        "outputId": "553ec73d-9305-4529-ed86-eea266c0aae0"
      },
      "execution_count": 6,
      "outputs": [
        {
          "output_type": "stream",
          "name": "stdout",
          "text": [
            "[0, 0, 0, 0, 0, 0, 0, 0, 1]\n",
            "1\n"
          ]
        }
      ]
    },
    {
      "cell_type": "markdown",
      "source": [
        "- In this tic-tac-toe, the iterative deepening solution is likely to be faster and more efficient, since the game has a relatively small number of possible moves and the depth of the search is limited. \n",
        "- However, for larger and more complex problems, a depth-first search algorithm may be necessary."
      ],
      "metadata": {
        "id": "4FFQP89L8OBI"
      }
    },
    {
      "cell_type": "code",
      "source": [],
      "metadata": {
        "id": "jNrEHnkU8psE"
      },
      "execution_count": null,
      "outputs": []
    }
  ]
}